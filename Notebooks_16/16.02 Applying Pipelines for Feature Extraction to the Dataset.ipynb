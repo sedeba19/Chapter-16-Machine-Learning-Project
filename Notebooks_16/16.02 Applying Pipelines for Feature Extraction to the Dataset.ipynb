{
 "cells": [
  {
   "cell_type": "code",
   "execution_count": 2,
   "metadata": {},
   "outputs": [],
   "source": [
    "import pandas as pd\n",
    "file_url = 'https://raw.githubusercontent.com/sedeba19/Chapter-16/main/data_source/Dataset_crx.data.txt'\n",
    "\n",
    "df = pd.read_csv(file_url,\n",
    "                 sep = ',',\n",
    "                 header = None,\n",
    "                 na_values= '?')\n",
    "\n",
    "# Changing the Classess to 1 & 0\n",
    "df.loc[df[15] == '+', 15] = 1\n",
    "df.loc[df[15] == '-', 15] = 0\n",
    "\n",
    "df_clean = df.dropna(axis = 0)\n",
    "df_clean.isna().sum()\n",
    "\n",
    "# Separating X and y variabls\n",
    "X = df_clean.loc[:, 0:14]\n",
    "y = df_clean.loc[:, 15].astype('int')\n",
    "\n",
    "from sklearn.model_selection import train_test_split\n",
    "\n",
    "# Split the data into training and testing set\n",
    "X_train, X_test, y_train, y_test = train_test_split(X,\n",
    "                                                    y,\n",
    "                                                    test_size= 0.3,\n",
    "                                                    random_state=123)"
   ]
  },
  {
   "cell_type": "code",
   "execution_count": null,
   "metadata": {},
   "outputs": [],
   "source": []
  }
 ],
 "metadata": {
  "kernelspec": {
   "display_name": "Python 3",
   "language": "python",
   "name": "python3"
  },
  "language_info": {
   "codemirror_mode": {
    "name": "ipython",
    "version": 3
   },
   "file_extension": ".py",
   "mimetype": "text/x-python",
   "name": "python",
   "nbconvert_exporter": "python",
   "pygments_lexer": "ipython3",
   "version": "3.10.9"
  },
  "orig_nbformat": 4
 },
 "nbformat": 4,
 "nbformat_minor": 2
}
